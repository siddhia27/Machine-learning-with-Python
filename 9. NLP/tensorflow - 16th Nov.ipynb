{
 "cells": [
  {
   "cell_type": "code",
   "execution_count": 1,
   "metadata": {
    "colab": {
     "base_uri": "https://localhost:8080/",
     "height": 64
    },
    "colab_type": "code",
    "id": "Ug5kf0_27eOj",
    "outputId": "f740973e-0830-4a40-b0e6-1f3f7999c9dd"
   },
   "outputs": [
    {
     "data": {
      "text/html": [
       "<p style=\"color: red;\">\n",
       "The default version of TensorFlow in Colab will soon switch to TensorFlow 2.x.<br>\n",
       "We recommend you <a href=\"https://www.tensorflow.org/guide/migrate\" target=\"_blank\">upgrade</a> now \n",
       "or ensure your notebook will continue to use TensorFlow 1.x via the <code>%tensorflow_version 1.x</code> magic:\n",
       "<a href=\"https://colab.research.google.com/notebooks/tensorflow_version.ipynb\" target=\"_blank\">more info</a>.</p>\n"
      ],
      "text/plain": [
       "<IPython.core.display.HTML object>"
      ]
     },
     "metadata": {
      "tags": []
     },
     "output_type": "display_data"
    }
   ],
   "source": [
    "import tensorflow as tf"
   ]
  },
  {
   "cell_type": "code",
   "execution_count": 2,
   "metadata": {
    "colab": {
     "base_uri": "https://localhost:8080/",
     "height": 35
    },
    "colab_type": "code",
    "id": "Swk3ZNuz8BsZ",
    "outputId": "15f66960-bc02-45f4-c25e-7b8dbfbf0c63"
   },
   "outputs": [
    {
     "name": "stdout",
     "output_type": "stream",
     "text": [
      "1.15.0\n"
     ]
    }
   ],
   "source": [
    "print(tf.__version__)"
   ]
  },
  {
   "cell_type": "code",
   "execution_count": 0,
   "metadata": {
    "colab": {},
    "colab_type": "code",
    "id": "aRuQk95x8FeK"
   },
   "outputs": [],
   "source": [
    "a= 10\n",
    "s = 'hello'"
   ]
  },
  {
   "cell_type": "code",
   "execution_count": 6,
   "metadata": {
    "colab": {
     "base_uri": "https://localhost:8080/",
     "height": 35
    },
    "colab_type": "code",
    "id": "tocEqWki9Pmh",
    "outputId": "75d1780e-5c0e-4fca-aeef-fd37dbce2a19"
   },
   "outputs": [
    {
     "data": {
      "text/plain": [
       "<tf.Tensor 'Const_1:0' shape=() dtype=int32>"
      ]
     },
     "execution_count": 6,
     "metadata": {
      "tags": []
     },
     "output_type": "execute_result"
    }
   ],
   "source": [
    "t1 = tf.constant(a)\n",
    "t1"
   ]
  },
  {
   "cell_type": "code",
   "execution_count": 5,
   "metadata": {
    "colab": {
     "base_uri": "https://localhost:8080/",
     "height": 35
    },
    "colab_type": "code",
    "id": "Lxw3CDky9W40",
    "outputId": "868c3c2c-403e-42db-f8a0-c0b410affdf7"
   },
   "outputs": [
    {
     "data": {
      "text/plain": [
       "tensorflow.python.framework.ops.Tensor"
      ]
     },
     "execution_count": 5,
     "metadata": {
      "tags": []
     },
     "output_type": "execute_result"
    }
   ],
   "source": [
    "type(t1)"
   ]
  },
  {
   "cell_type": "code",
   "execution_count": 0,
   "metadata": {
    "colab": {},
    "colab_type": "code",
    "id": "YGU1Q_UQ9Z56"
   },
   "outputs": [],
   "source": [
    "t2 = tf.constant(s)"
   ]
  },
  {
   "cell_type": "code",
   "execution_count": 8,
   "metadata": {
    "colab": {
     "base_uri": "https://localhost:8080/",
     "height": 35
    },
    "colab_type": "code",
    "id": "sGZaxKmS9oS2",
    "outputId": "b8a62916-9c51-4478-b760-37b889e1b084"
   },
   "outputs": [
    {
     "data": {
      "text/plain": [
       "<tf.Tensor 'Const_2:0' shape=() dtype=string>"
      ]
     },
     "execution_count": 8,
     "metadata": {
      "tags": []
     },
     "output_type": "execute_result"
    }
   ],
   "source": [
    "t2"
   ]
  },
  {
   "cell_type": "code",
   "execution_count": 9,
   "metadata": {
    "colab": {
     "base_uri": "https://localhost:8080/",
     "height": 35
    },
    "colab_type": "code",
    "id": "y5Yv7MiA9prE",
    "outputId": "f14a1c9c-bbdc-4f2e-e36a-334f3e23d0d0"
   },
   "outputs": [
    {
     "data": {
      "text/plain": [
       "tensorflow.python.framework.ops.Tensor"
      ]
     },
     "execution_count": 9,
     "metadata": {
      "tags": []
     },
     "output_type": "execute_result"
    }
   ],
   "source": [
    "type(t2)"
   ]
  },
  {
   "cell_type": "code",
   "execution_count": 0,
   "metadata": {
    "colab": {},
    "colab_type": "code",
    "id": "lTfOMIHh9q9i"
   },
   "outputs": [],
   "source": [
    "# Tensorflow uses the numpy librabries, tensorflow do not have its own integrers and strings datatype, it takes datatypes from Numpy array librabry\n",
    "\n",
    "# session object of tensorflow brings/extracts the value from the tensorflow objects \n",
    "# which are created using contant object function in the tensorflow\n"
   ]
  },
  {
   "cell_type": "code",
   "execution_count": 0,
   "metadata": {
    "colab": {},
    "colab_type": "code",
    "id": "FeM0VjRV-zOY"
   },
   "outputs": [],
   "source": [
    "sess = tf.Session()"
   ]
  },
  {
   "cell_type": "code",
   "execution_count": 11,
   "metadata": {
    "colab": {
     "base_uri": "https://localhost:8080/",
     "height": 35
    },
    "colab_type": "code",
    "id": "I1j5NxgI-3WI",
    "outputId": "15ce06c1-6a5f-4850-e9f6-a2bd77549608"
   },
   "outputs": [
    {
     "data": {
      "text/plain": [
       "10"
      ]
     },
     "execution_count": 11,
     "metadata": {
      "tags": []
     },
     "output_type": "execute_result"
    }
   ],
   "source": [
    "sess.run(t1)"
   ]
  },
  {
   "cell_type": "code",
   "execution_count": 12,
   "metadata": {
    "colab": {
     "base_uri": "https://localhost:8080/",
     "height": 35
    },
    "colab_type": "code",
    "id": "wrWoqEM7-5bN",
    "outputId": "e26427c6-b3df-43a7-efc4-89097882d13a"
   },
   "outputs": [
    {
     "data": {
      "text/plain": [
       "b'hello'"
      ]
     },
     "execution_count": 12,
     "metadata": {
      "tags": []
     },
     "output_type": "execute_result"
    }
   ],
   "source": [
    "sess.run(t2)"
   ]
  },
  {
   "cell_type": "code",
   "execution_count": 13,
   "metadata": {
    "colab": {
     "base_uri": "https://localhost:8080/",
     "height": 35
    },
    "colab_type": "code",
    "id": "vCcGk3iy-7Qp",
    "outputId": "a7f4ff80-c177-4b5c-93bc-8a56afdb4bc8"
   },
   "outputs": [
    {
     "data": {
      "text/plain": [
       "numpy.int32"
      ]
     },
     "execution_count": 13,
     "metadata": {
      "tags": []
     },
     "output_type": "execute_result"
    }
   ],
   "source": [
    "type(sess.run(t1)) # Tensorflow uses the numpy librabries"
   ]
  },
  {
   "cell_type": "code",
   "execution_count": 14,
   "metadata": {
    "colab": {
     "base_uri": "https://localhost:8080/",
     "height": 35
    },
    "colab_type": "code",
    "id": "fvjwh07x--cM",
    "outputId": "09a10a2a-185f-4ed0-fd7f-a389c0fb4959"
   },
   "outputs": [
    {
     "data": {
      "text/plain": [
       "bytes"
      ]
     },
     "execution_count": 14,
     "metadata": {
      "tags": []
     },
     "output_type": "execute_result"
    }
   ],
   "source": [
    "type(sess.run(t2)) # Tensorflow uses the numpy librabries"
   ]
  },
  {
   "cell_type": "code",
   "execution_count": 0,
   "metadata": {
    "colab": {},
    "colab_type": "code",
    "id": "Hw5nFLSQ_A--"
   },
   "outputs": [],
   "source": [
    "x = tf.constant(11)\n",
    "y = tf.constant(12)"
   ]
  },
  {
   "cell_type": "code",
   "execution_count": 21,
   "metadata": {
    "colab": {
     "base_uri": "https://localhost:8080/",
     "height": 35
    },
    "colab_type": "code",
    "id": "sz-lNig0_8HV",
    "outputId": "bf672f7e-8ddc-4c83-96ff-f279745efc42"
   },
   "outputs": [
    {
     "data": {
      "text/plain": [
       "23"
      ]
     },
     "execution_count": 21,
     "metadata": {
      "tags": []
     },
     "output_type": "execute_result"
    }
   ],
   "source": [
    "sess.run(x+y)"
   ]
  },
  {
   "cell_type": "code",
   "execution_count": 22,
   "metadata": {
    "colab": {
     "base_uri": "https://localhost:8080/",
     "height": 35
    },
    "colab_type": "code",
    "id": "X6k7o9nLAANe",
    "outputId": "4e1d0c8a-3bf8-4413-b14c-16ccd3becf2a"
   },
   "outputs": [
    {
     "data": {
      "text/plain": [
       "12"
      ]
     },
     "execution_count": 22,
     "metadata": {
      "tags": []
     },
     "output_type": "execute_result"
    }
   ],
   "source": [
    "sess.run(t12)\n"
   ]
  },
  {
   "cell_type": "code",
   "execution_count": 0,
   "metadata": {
    "colab": {},
    "colab_type": "code",
    "id": "aDPYTAU5AMwW"
   },
   "outputs": [],
   "source": [
    "# tensorflow do not have its garbage collector\n",
    "# in order to use the session object for sometime use it with 'with' keyword , it will only then destroy the session object"
   ]
  },
  {
   "cell_type": "code",
   "execution_count": 25,
   "metadata": {
    "colab": {
     "base_uri": "https://localhost:8080/",
     "height": 87
    },
    "colab_type": "code",
    "id": "SjYMGFZXBt0k",
    "outputId": "ef94002a-d254-45bd-8e20-224a34b67da1"
   },
   "outputs": [
    {
     "name": "stdout",
     "output_type": "stream",
     "text": [
      "23\n",
      "-1\n",
      "132\n",
      "0.9166666666666666\n"
     ]
    }
   ],
   "source": [
    "with tf.Session() as sess:\n",
    "  print(sess.run(x+y))\n",
    "  print(sess.run(x-y))\n",
    "  print(sess.run(x*y))\n",
    "  print(sess.run(x/y))"
   ]
  },
  {
   "cell_type": "code",
   "execution_count": 0,
   "metadata": {
    "colab": {},
    "colab_type": "code",
    "id": "FUQirkb-B9GP"
   },
   "outputs": [],
   "source": [
    "# tensorflow is written in 'C' language\n",
    "\n",
    "# tensorflow objects are made using 'constant' or the 'placeholder'\n",
    "# constant uses the value of variable and then makes the object\n",
    "# whereas placeholder requires the datatype of the value to make objects"
   ]
  },
  {
   "cell_type": "code",
   "execution_count": 0,
   "metadata": {
    "colab": {},
    "colab_type": "code",
    "id": "yGc3joTxDE7J"
   },
   "outputs": [],
   "source": [
    "p = tf.placeholder(tf.int32)\n",
    "q = tf.placeholder(tf.int32)"
   ]
  },
  {
   "cell_type": "code",
   "execution_count": 28,
   "metadata": {
    "colab": {
     "base_uri": "https://localhost:8080/",
     "height": 35
    },
    "colab_type": "code",
    "id": "AL5y-hc8DQLL",
    "outputId": "1f28e4d7-3d2f-43f5-9f44-61fd087dc1b5"
   },
   "outputs": [
    {
     "data": {
      "text/plain": [
       "tensorflow.python.framework.ops.Tensor"
      ]
     },
     "execution_count": 28,
     "metadata": {
      "tags": []
     },
     "output_type": "execute_result"
    }
   ],
   "source": [
    "type(p)"
   ]
  },
  {
   "cell_type": "code",
   "execution_count": 29,
   "metadata": {
    "colab": {
     "base_uri": "https://localhost:8080/",
     "height": 35
    },
    "colab_type": "code",
    "id": "xLoIY-PoDSDk",
    "outputId": "cb7d8f74-703a-4e8d-9baf-9b8475ffc8fe"
   },
   "outputs": [
    {
     "data": {
      "text/plain": [
       "tensorflow.python.framework.ops.Tensor"
      ]
     },
     "execution_count": 29,
     "metadata": {
      "tags": []
     },
     "output_type": "execute_result"
    }
   ],
   "source": [
    "type(q)"
   ]
  },
  {
   "cell_type": "code",
   "execution_count": 0,
   "metadata": {
    "colab": {},
    "colab_type": "code",
    "id": "olifaW1yDTBr"
   },
   "outputs": [],
   "source": [
    "# tensorflow has its own 'add' function"
   ]
  },
  {
   "cell_type": "code",
   "execution_count": 0,
   "metadata": {
    "colab": {},
    "colab_type": "code",
    "id": "BMDRiD_YEJbh"
   },
   "outputs": [],
   "source": [
    "addition = tf.add(p,q)\n",
    "substraction= tf.subtract(p,q)\n",
    "multiple= tf.multiply(p,q)\n",
    "d = {p:30,q:10}"
   ]
  },
  {
   "cell_type": "code",
   "execution_count": 40,
   "metadata": {
    "colab": {
     "base_uri": "https://localhost:8080/",
     "height": 69
    },
    "colab_type": "code",
    "id": "22h2jMkoEZXr",
    "outputId": "9a5a9f30-141f-4234-9358-f8c343619f0d"
   },
   "outputs": [
    {
     "name": "stdout",
     "output_type": "stream",
     "text": [
      "30\n",
      "-10\n",
      "300\n"
     ]
    }
   ],
   "source": [
    "with tf.Session() as sess:\n",
    "  print(sess.run(addition, {p:10, q:20}))  # the arguments in tensorflow are given using dictionary\n",
    "  print(sess.run(substraction, {p:20,q:30}))\n",
    "  print(sess.run(multiple, d))"
   ]
  },
  {
   "cell_type": "code",
   "execution_count": 0,
   "metadata": {
    "colab": {},
    "colab_type": "code",
    "id": "cAeDQ1DkEigr"
   },
   "outputs": [],
   "source": [
    "b = tf.constant([1,2,3,4], shape=[2,2])\n",
    "c = tf.constant([4,5,6,7], shape=[2,2])\n",
    "\n",
    "matrxMul = tf.matmul(b,c)"
   ]
  },
  {
   "cell_type": "code",
   "execution_count": 43,
   "metadata": {
    "colab": {
     "base_uri": "https://localhost:8080/",
     "height": 52
    },
    "colab_type": "code",
    "id": "bKsSBJfvITqX",
    "outputId": "bcb041fc-2125-4e0f-d84b-017257706536"
   },
   "outputs": [
    {
     "name": "stdout",
     "output_type": "stream",
     "text": [
      "[[16 19]\n",
      " [36 43]]\n"
     ]
    }
   ],
   "source": [
    "with tf.Session() as sess:\n",
    "  print(sess.run(matrxMul))"
   ]
  },
  {
   "cell_type": "code",
   "execution_count": 63,
   "metadata": {
    "colab": {
     "base_uri": "https://localhost:8080/",
     "height": 35
    },
    "colab_type": "code",
    "id": "Ts_q2yQ9PjlB",
    "outputId": "6180efbc-bc93-4b31-9db6-0f5f4261c732"
   },
   "outputs": [
    {
     "name": "stdout",
     "output_type": "stream",
     "text": [
      "[[14]]\n"
     ]
    }
   ],
   "source": [
    "b1 = tf.constant(np.arange(1,3).reshape(1,2))\n",
    "c1 = tf.constant(np.arange(4,6).reshape(2,1))\n",
    "\n",
    "with tf.Session() as sess:\n",
    "  print(sess.run(tf.matmul(b1,c1)))\n",
    "\n",
    "# result will be a [1,1] matrix"
   ]
  },
  {
   "cell_type": "code",
   "execution_count": 0,
   "metadata": {
    "colab": {},
    "colab_type": "code",
    "id": "pVfCmZHFPkRJ"
   },
   "outputs": [],
   "source": []
  },
  {
   "cell_type": "code",
   "execution_count": 0,
   "metadata": {
    "colab": {},
    "colab_type": "code",
    "id": "Spj_HiK7Id5n"
   },
   "outputs": [],
   "source": [
    "\n",
    "import numpy as np\n",
    "s = np.arange(1,5)\n",
    "s = s.reshape(2,2)\n",
    "t = np.arange(6,10)\n",
    "t=t.reshape(2,2)"
   ]
  },
  {
   "cell_type": "code",
   "execution_count": 0,
   "metadata": {
    "colab": {},
    "colab_type": "code",
    "id": "IrNfzk5NOkVO"
   },
   "outputs": [],
   "source": [
    "m = tf.placeholder(tf.int32, shape=[2,2])\n",
    "n= tf.placeholder(tf.int32, shape=[2,2])\n",
    "matmultiplication = tf.matmul(m,n)"
   ]
  },
  {
   "cell_type": "code",
   "execution_count": 62,
   "metadata": {
    "colab": {
     "base_uri": "https://localhost:8080/",
     "height": 52
    },
    "colab_type": "code",
    "id": "bgfH3tbVKGjS",
    "outputId": "2491f189-d30d-487c-9a6e-4640501808d9"
   },
   "outputs": [
    {
     "name": "stdout",
     "output_type": "stream",
     "text": [
      "[[22 25]\n",
      " [50 57]]\n"
     ]
    }
   ],
   "source": [
    "with tf.Session() as sess:\n",
    "  print(sess.run(matmultiplication, {m:s, n:t}))\n"
   ]
  },
  {
   "cell_type": "code",
   "execution_count": 64,
   "metadata": {
    "colab": {
     "base_uri": "https://localhost:8080/",
     "height": 87
    },
    "colab_type": "code",
    "id": "O7LIL0SFOiZQ",
    "outputId": "91f4aba2-c38e-4545-f15f-5796e17ab6c8"
   },
   "outputs": [
    {
     "name": "stdout",
     "output_type": "stream",
     "text": [
      "[[ 14  17  20  23]\n",
      " [ 30  37  44  51]\n",
      " [ 46  57  68  79]\n",
      " [ 62  77  92 107]]\n"
     ]
    }
   ],
   "source": [
    "m1 = tf.placeholder(tf.int32, shape=[None,2]) # matrix [any rows *2]\n",
    "n1= tf.placeholder(tf.int32, shape=[2,None]) # matrix [2*any columns]\n",
    "matmultiplication = tf.matmul(m1,n1)\n",
    "\n",
    "s1 = np.arange(1,9).reshape(4,2)\n",
    "t1 = np.arange(2,10).reshape(2,4)\n",
    "with tf.Session() as sess:\n",
    "  print(sess.run(matmultiplication, {m1:s1, n1:t1}))\n",
    "# result will be a [4,4] matrix"
   ]
  },
  {
   "cell_type": "code",
   "execution_count": 0,
   "metadata": {
    "colab": {},
    "colab_type": "code",
    "id": "SHezsCcTLH55"
   },
   "outputs": [],
   "source": []
  }
 ],
 "metadata": {
  "colab": {
   "collapsed_sections": [],
   "name": "tensorflow.ipynb",
   "provenance": []
  },
  "kernelspec": {
   "display_name": "Python 3",
   "language": "python",
   "name": "python3"
  },
  "language_info": {
   "codemirror_mode": {
    "name": "ipython",
    "version": 3
   },
   "file_extension": ".py",
   "mimetype": "text/x-python",
   "name": "python",
   "nbconvert_exporter": "python",
   "pygments_lexer": "ipython3",
   "version": "3.6.4"
  }
 },
 "nbformat": 4,
 "nbformat_minor": 1
}
